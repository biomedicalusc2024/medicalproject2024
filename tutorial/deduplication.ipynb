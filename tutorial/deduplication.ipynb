{
 "cells": [
  {
   "cell_type": "markdown",
   "metadata": {},
   "source": [
    "# Medical Data Deduplication Tutorial\n",
    "\n",
    "This notebook demonstrates how to use the deduplication modules in the medical project to remove duplicate entries from biomedical and QA datasets using Python scripts.\n",
    "\n",
    "## Overview\n",
    "\n",
    "The deduplication module provides two main functionalities:\n",
    "1. **QA Deduplication**: Removes duplicates from question-answering datasets\n",
    "2. **Biomedical Deduplication**: Removes duplicates from biomedical text datasets\n",
    "\n",
    "## Table of Contents\n",
    "1. [Setup and Environment Check](#setup)\n",
    "2. [QA Dataset Deduplication](#qa-dedup)\n",
    "3. [Biomedical Dataset Deduplication](#biomed-dedup)"
   ]
  },
  {
   "cell_type": "markdown",
   "metadata": {},
   "source": [
    "## 1. Setup and Environment Check {#setup}"
   ]
  },
  {
   "cell_type": "code",
   "execution_count": 2,
   "metadata": {},
   "outputs": [
    {
     "name": "stdout",
     "output_type": "stream",
     "text": [
      "Notebook directory: /home/tjl20001104/workspace/Projects/USC/biobank/hugging-health/medicalproject2024/tutorial\n",
      "Script path: /home/tjl20001104/workspace/Projects/USC/biobank/hugging-health/medicalproject2024/tutorial/deduplication.py\n",
      "Script exists: True\n",
      "✅ deduplication.py script found!\n"
     ]
    }
   ],
   "source": [
    "# Check if the deduplication.py script exists and is accessible\n",
    "import os\n",
    "from pathlib import Path\n",
    "\n",
    "# Get the current notebook directory\n",
    "notebook_dir = Path.cwd()\n",
    "script_path = notebook_dir / \"deduplication.py\"\n",
    "\n",
    "print(f\"Notebook directory: {notebook_dir}\")\n",
    "print(f\"Script path: {script_path}\")\n",
    "print(f\"Script exists: {script_path.exists()}\")\n",
    "\n",
    "if script_path.exists():\n",
    "    print(\"deduplication.py script found!\")\n",
    "else:\n",
    "    print(\"deduplication.py script not found!\")\n",
    "    print(\"Please ensure the script is in the same directory as this notebook.\")"
   ]
  },
  {
   "cell_type": "code",
   "execution_count": 3,
   "metadata": {},
   "outputs": [
    {
     "name": "stdout",
     "output_type": "stream",
     "text": [
      "usage: deduplication.py [-h] [--mode {qa,biomed}]\n",
      "                        [--qa-datasets [{LiveQA,MedicationQA,MedMCQA,MedQA-USMLE,PubMedQA} ...]]\n",
      "                        [--biomed-datasets [{bc5cdr,BioNLI,CORD19,hoc,SourceData} ...]]\n",
      "                        [--input-dir INPUT_DIR] [--output-dir OUTPUT_DIR]\n",
      "                        [--test]\n",
      "\n",
      "Medical Data Deduplication Tutorial\n",
      "\n",
      "options:\n",
      "  -h, --help            show this help message and exit\n",
      "  --mode {qa,biomed}    Processing mode (default: qa)\n",
      "  --qa-datasets [{LiveQA,MedicationQA,MedMCQA,MedQA-USMLE,PubMedQA} ...]\n",
      "                        QA datasets to process\n",
      "  --biomed-datasets [{bc5cdr,BioNLI,CORD19,hoc,SourceData} ...]\n",
      "                        Biomedical datasets to process\n",
      "  --input-dir INPUT_DIR\n",
      "                        Input data directory (default: data)\n",
      "  --output-dir OUTPUT_DIR\n",
      "                        Output directory for deduplicated datasets (default:\n",
      "                        data)\n",
      "  --test                Run in test mode with limited data\n",
      "\n",
      "Examples:\n",
      "  # Process specific QA datasets\n",
      "  python deduplication.py --qa-datasets LiveQA MedicationQA --input-dir data --output-dir data\n",
      "\n",
      "  # Process specific biomedical datasets  \n",
      "  python deduplication.py --biomed-datasets bc5cdr BioNLI --input-dir data --output-dir data\n",
      "\n",
      "  # Process both types of datasets\n",
      "  python deduplication.py --qa-datasets LiveQA --biomed-datasets bc5cdr --input-dir data --output-dir data\n",
      "\n",
      "  # Quick test with QA datasets\n",
      "  python deduplication.py --mode qa --qa-datasets LiveQA MedicationQA --input-dir data --output-dir data --test\n",
      "        \n"
     ]
    }
   ],
   "source": [
    "# Test the script help to ensure it's working\n",
    "!python deduplication.py --help"
   ]
  },
  {
   "cell_type": "markdown",
   "metadata": {},
   "source": [
    "## 2. QA Dataset Deduplication {#qa-dedup}\n",
    "quick test and full running of QA Deduplication"
   ]
  },
  {
   "cell_type": "markdown",
   "metadata": {},
   "source": [
    "### Quick Test QA Dataset"
   ]
  },
  {
   "cell_type": "code",
   "execution_count": 4,
   "metadata": {},
   "outputs": [
    {
     "name": "stdout",
     "output_type": "stream",
     "text": [
      "Script directory: /home/tjl20001104/workspace/Projects/USC/biobank/hugging-health/medicalproject2024/tutorial\n",
      "Project root: /home/tjl20001104/workspace/Projects/USC/biobank/hugging-health\n",
      "Python path updated with: /home/tjl20001104/workspace/Projects/USC/biobank/hugging-health\n",
      "============================================================\n",
      "QA DATASET DEDUPLICATION\n",
      "(RUNNING IN TEST MODE)\n",
      "============================================================\n",
      "✅ Successfully imported deduplication modules\n",
      "Processing 3 QA datasets: ['LiveQA', 'MedicationQA', 'MedQA-USMLE']\n",
      "Ignored unknown kwarg option special\n",
      "Ignored unknown kwarg option special\n",
      "Ignored unknown kwarg option special\n",
      "Ignored unknown kwarg option special\n",
      "Ignored unknown kwarg option special\n",
      "Ignored unknown kwarg option special\n",
      "Ignored unknown kwarg option special\n",
      "Ignored unknown kwarg option special\n",
      "Ignored unknown kwarg option special\n",
      "Ignored unknown kwarg option special\n",
      "Ignored unknown kwarg option special\n",
      "Ignored unknown kwarg option special\n",
      "Model loaded successfully on device: cuda\n",
      "Found local copy...\n",
      "Generating embeddings: 100%|██████████████████████| 2/2 [00:02<00:00,  1.23s/it]\n",
      "Calcuating Similarity: 100%|██████████████████████| 1/1 [00:00<00:00, 53.92it/s]\n",
      "Generating embeddings: 100%|██████████████████████| 2/2 [00:00<00:00,  2.19it/s]\n",
      "Calcuating Similarity: 100%|█████████████████████| 1/1 [00:00<00:00, 120.90it/s]\n",
      "Generating embeddings: 100%|██████████████████████| 2/2 [00:00<00:00,  2.65it/s]\n",
      "Generating embeddings: 100%|██████████████████████| 2/2 [00:00<00:00,  2.34it/s]\n",
      "Processing dataset1 in chunks: 100%|██████████████| 1/1 [00:00<00:00,  7.26it/s]\n",
      "Processing dataset1 in chunks: 100%|██████████████| 1/1 [00:00<00:00,  9.33it/s]\n",
      "Loading cached embeddings for LiveQA...\n",
      "Successfully processed LiveQA\n",
      "Generating embeddings: 100%|████████████████████| 11/11 [00:04<00:00,  2.21it/s]\n",
      "Calcuating Similarity: 100%|██████████████████████| 1/1 [00:00<00:00, 50.80it/s]\n",
      "Generating embeddings:  60%|████████████▌        | 6/10 [00:02<00:01,  2.10it/s]^C\n"
     ]
    }
   ],
   "source": [
    "# quick test multiple QA datasets, recommended to run in terminal\n",
    "!python deduplication.py --mode qa --qa-datasets LiveQA MedicationQA MedQA-USMLE --input-dir data --output-dir data --test"
   ]
  },
  {
   "cell_type": "markdown",
   "metadata": {},
   "source": [
    "### Full Processing QA Dataset"
   ]
  },
  {
   "cell_type": "code",
   "execution_count": null,
   "metadata": {},
   "outputs": [],
   "source": [
    "# full processing multiple QA datasets, recommended to run in terminal\n",
    "!python deduplication.py --mode qa --qa-datasets LiveQA MedicationQA MedQA-USMLE --input-dir data --output-dir data"
   ]
  },
  {
   "cell_type": "markdown",
   "metadata": {},
   "source": [
    "## 3. Biomedical Dataset Deduplication {#biomed-dedup}\n",
    "quick test and full running of Biomed Deduplication"
   ]
  },
  {
   "cell_type": "markdown",
   "metadata": {},
   "source": [
    "### Quick Test Biomed Dataset"
   ]
  },
  {
   "cell_type": "code",
   "execution_count": null,
   "metadata": {},
   "outputs": [],
   "source": [
    "# quick test multiple biomedical datasets, recommended to run in terminal\n",
    "!python deduplication.py --mode biomed --biomed-datasets bc5cdr BioNLI --input-dir data --output-dir data --test"
   ]
  },
  {
   "cell_type": "markdown",
   "metadata": {},
   "source": [
    "### Full Processing Biomed Dataset"
   ]
  },
  {
   "cell_type": "code",
   "execution_count": null,
   "metadata": {},
   "outputs": [],
   "source": [
    "# Process multiple biomedical datasets, recommended to run in terminal\n",
    "!python deduplication.py --mode biomed --biomed-datasets bc5cdr BioNLI --input-dir data --output-dir data"
   ]
  },
  {
   "cell_type": "markdown",
   "metadata": {},
   "source": [
    "## Utility Functions\n",
    "\n",
    "Some utility functions to help with processing."
   ]
  },
  {
   "cell_type": "code",
   "execution_count": null,
   "metadata": {},
   "outputs": [],
   "source": [
    "# Function to check output files\n",
    "def check_output_files(output_dir=\"data\"):\n",
    "    \"\"\"Check what output files were created\"\"\"\n",
    "    output_path = Path(output_dir)\n",
    "    \n",
    "    qa_dir = output_path / \"deduplicate_qa\"\n",
    "    biomed_dir = output_path / \"deduplicate_biomed\"\n",
    "    \n",
    "    print(\"Output Files:\")\n",
    "    print(\"-\" * 40)\n",
    "    \n",
    "    if qa_dir.exists():\n",
    "        print(\"QA Deduplication Output:\")\n",
    "        for file in qa_dir.rglob(\"*\"):\n",
    "            if file.is_file():\n",
    "                print(f\"  {file.relative_to(output_path)}\")\n",
    "    \n",
    "    if biomed_dir.exists():\n",
    "        print(\"Biomedical Deduplication Output:\")\n",
    "        for file in biomed_dir.rglob(\"*\"):\n",
    "            if file.is_file():\n",
    "                print(f\"  {file.relative_to(output_path)}\")\n",
    "\n",
    "# Check output files\n",
    "check_output_files()"
   ]
  },
  {
   "cell_type": "code",
   "execution_count": null,
   "metadata": {},
   "outputs": [],
   "source": [
    "# Function to run custom deduplication command\n",
    "def run_custom_deduplication(qa_datasets=None, biomed_datasets=None, input_dir=\"data\", output_dir=\"data\"):\n",
    "    \"\"\"Run custom deduplication with specified parameters\"\"\"\n",
    "    cmd_parts = [\"python\", \"deduplication.py\"]\n",
    "    \n",
    "    if qa_datasets:\n",
    "        cmd_parts.extend([\"--qa-datasets\"] + qa_datasets)\n",
    "    \n",
    "    if biomed_datasets:\n",
    "        cmd_parts.extend([\"--biomed-datasets\"] + biomed_datasets)\n",
    "    \n",
    "    cmd_parts.extend([\"--input-dir\", input_dir, \"--output-dir\", output_dir])\n",
    "    \n",
    "    cmd = \" \".join(cmd_parts)\n",
    "    print(f\"Running command: {cmd}\")\n",
    "    print(\"-\" * 60)\n",
    "    \n",
    "    # Execute the command\n",
    "    os.system(cmd)\n",
    "\n",
    "# Example usage:\n",
    "# run_custom_deduplication(qa_datasets=[\"LiveQA\"], biomed_datasets=[\"bc5cdr\"])"
   ]
  },
  {
   "cell_type": "markdown",
   "metadata": {},
   "source": [
    "## Summary\n",
    "\n",
    "This notebook demonstrates how to use the `deduplication.py` script to process medical datasets. The script provides several processing modes:\n",
    "\n",
    "- **qa**: Process only QA datasets\n",
    "- **biomed**: Process only biomedical datasets\n",
    "\n",
    "### Available Datasets:\n",
    "\n",
    "**QA Datasets:**\n",
    "- LiveQA\n",
    "- MedicationQA\n",
    "- MedMCQA\n",
    "- MedQA-USMLE\n",
    "- PubMedQA\n",
    "\n",
    "**Biomedical Datasets:**\n",
    "- bc5cdr\n",
    "- BioNLI\n",
    "- CORD19\n",
    "- hoc\n",
    "- SourceData\n",
    "\n",
    "### Best Practices:\n",
    "\n",
    "1. Start with the quick-test mode to verify everything works\n",
    "2. Process full datasets to identify any issues\n",
    "3. Check output files after processing\n",
    "4. Monitor the console output for any errors or warnings"
   ]
  }
 ],
 "metadata": {
  "kernelspec": {
   "display_name": "Python 3",
   "language": "python",
   "name": "python3"
  },
  "language_info": {
   "codemirror_mode": {
    "name": "ipython",
    "version": 3
   },
   "file_extension": ".py",
   "mimetype": "text/x-python",
   "name": "python",
   "nbconvert_exporter": "python",
   "pygments_lexer": "ipython3",
   "version": "3.10.16"
  }
 },
 "nbformat": 4,
 "nbformat_minor": 4
}
